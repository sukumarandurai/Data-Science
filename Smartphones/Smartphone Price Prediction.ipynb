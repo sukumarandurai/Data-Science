{
 "cells": [
  {
   "cell_type": "code",
   "execution_count": 1,
   "metadata": {},
   "outputs": [],
   "source": [
    "import pandas as pd\n",
    "from pandas import Series, DataFrame\n",
    "import numpy as np\n",
    "\n",
    "import seaborn as sns\n",
    "import matplotlib.pyplot as plt\n",
    "sns.set_style('whitegrid')\n",
    "%matplotlib inline\n",
    "\n",
    "from datetime import datetime\n",
    "\n",
    "from __future__ import division"
   ]
  },
  {
   "cell_type": "code",
   "execution_count": 2,
   "metadata": {},
   "outputs": [],
   "source": [
    "smartphones = pd.read_csv('E:\\Data Analytics\\Data Science Projects\\Smartphones\\Smartphones.csv')"
   ]
  },
  {
   "cell_type": "code",
   "execution_count": 3,
   "metadata": {},
   "outputs": [
    {
     "data": {
      "text/html": [
       "<div>\n",
       "<style scoped>\n",
       "    .dataframe tbody tr th:only-of-type {\n",
       "        vertical-align: middle;\n",
       "    }\n",
       "\n",
       "    .dataframe tbody tr th {\n",
       "        vertical-align: top;\n",
       "    }\n",
       "\n",
       "    .dataframe thead th {\n",
       "        text-align: right;\n",
       "    }\n",
       "</style>\n",
       "<table border=\"1\" class=\"dataframe\">\n",
       "  <thead>\n",
       "    <tr style=\"text-align: right;\">\n",
       "      <th></th>\n",
       "      <th>Model</th>\n",
       "      <th>Brand</th>\n",
       "      <th>Price</th>\n",
       "      <th>RAM</th>\n",
       "      <th>ROM</th>\n",
       "      <th>Battery Capacity</th>\n",
       "      <th>Screen Size(Inch)</th>\n",
       "      <th>SIM Type</th>\n",
       "      <th>System On Chip</th>\n",
       "      <th>Number Of Rear Cameras</th>\n",
       "      <th>Rear Camera(In Mega Pixel)</th>\n",
       "      <th>Front Camera</th>\n",
       "      <th>Operating System</th>\n",
       "      <th>Rating</th>\n",
       "    </tr>\n",
       "  </thead>\n",
       "  <tbody>\n",
       "    <tr>\n",
       "      <th>0</th>\n",
       "      <td>Redmi Note 7 Pro</td>\n",
       "      <td>Xiaomi</td>\n",
       "      <td>13,999</td>\n",
       "      <td>4</td>\n",
       "      <td>64</td>\n",
       "      <td>4000</td>\n",
       "      <td>6.3</td>\n",
       "      <td>Dual Sim</td>\n",
       "      <td>Snapdragon 675</td>\n",
       "      <td>2</td>\n",
       "      <td>48.0</td>\n",
       "      <td>13</td>\n",
       "      <td>Android v9.0 (Pie)</td>\n",
       "      <td>4.6</td>\n",
       "    </tr>\n",
       "    <tr>\n",
       "      <th>1</th>\n",
       "      <td>Redmi Note 7 Pro</td>\n",
       "      <td>Xiaomi</td>\n",
       "      <td>16,999</td>\n",
       "      <td>6</td>\n",
       "      <td>128</td>\n",
       "      <td>4000</td>\n",
       "      <td>6.3</td>\n",
       "      <td>Dual Sim</td>\n",
       "      <td>Snapdragon 675</td>\n",
       "      <td>2</td>\n",
       "      <td>48.0</td>\n",
       "      <td>13</td>\n",
       "      <td>Android v9.0 (Pie)</td>\n",
       "      <td>4.6</td>\n",
       "    </tr>\n",
       "    <tr>\n",
       "      <th>2</th>\n",
       "      <td>Redmi Note 7S</td>\n",
       "      <td>Xiaomi</td>\n",
       "      <td>10,999</td>\n",
       "      <td>3</td>\n",
       "      <td>32</td>\n",
       "      <td>4000</td>\n",
       "      <td>6.3</td>\n",
       "      <td>Dual Sim</td>\n",
       "      <td>Snapdragon 660</td>\n",
       "      <td>2</td>\n",
       "      <td>48.0</td>\n",
       "      <td>13</td>\n",
       "      <td>Android v9.0 (Pie)</td>\n",
       "      <td>4.6</td>\n",
       "    </tr>\n",
       "    <tr>\n",
       "      <th>3</th>\n",
       "      <td>Redmi Note 7S</td>\n",
       "      <td>Xiaomi</td>\n",
       "      <td>12,999</td>\n",
       "      <td>4</td>\n",
       "      <td>64</td>\n",
       "      <td>4000</td>\n",
       "      <td>6.3</td>\n",
       "      <td>Dual Sim</td>\n",
       "      <td>Snapdragon 660</td>\n",
       "      <td>2</td>\n",
       "      <td>48.0</td>\n",
       "      <td>13</td>\n",
       "      <td>Android v9.0 (Pie)</td>\n",
       "      <td>4.5</td>\n",
       "    </tr>\n",
       "    <tr>\n",
       "      <th>4</th>\n",
       "      <td>Redmi Note 7</td>\n",
       "      <td>Xiaomi</td>\n",
       "      <td>9,999</td>\n",
       "      <td>3</td>\n",
       "      <td>32</td>\n",
       "      <td>4000</td>\n",
       "      <td>6.3</td>\n",
       "      <td>Dual Sim</td>\n",
       "      <td>Snapdragon 660</td>\n",
       "      <td>2</td>\n",
       "      <td>12.0</td>\n",
       "      <td>13</td>\n",
       "      <td>Android v9.0 (Pie)</td>\n",
       "      <td>4.5</td>\n",
       "    </tr>\n",
       "  </tbody>\n",
       "</table>\n",
       "</div>"
      ],
      "text/plain": [
       "              Model   Brand   Price  RAM  ROM  Battery Capacity  \\\n",
       "0  Redmi Note 7 Pro  Xiaomi  13,999    4   64              4000   \n",
       "1  Redmi Note 7 Pro  Xiaomi  16,999    6  128              4000   \n",
       "2     Redmi Note 7S  Xiaomi  10,999    3   32              4000   \n",
       "3     Redmi Note 7S  Xiaomi  12,999    4   64              4000   \n",
       "4      Redmi Note 7  Xiaomi   9,999    3   32              4000   \n",
       "\n",
       "   Screen Size(Inch)  SIM Type  System On Chip  Number Of Rear Cameras  \\\n",
       "0                6.3  Dual Sim  Snapdragon 675                       2   \n",
       "1                6.3  Dual Sim  Snapdragon 675                       2   \n",
       "2                6.3  Dual Sim  Snapdragon 660                       2   \n",
       "3                6.3  Dual Sim  Snapdragon 660                       2   \n",
       "4                6.3  Dual Sim  Snapdragon 660                       2   \n",
       "\n",
       "   Rear Camera(In Mega Pixel)  Front Camera    Operating System  Rating  \n",
       "0                        48.0            13  Android v9.0 (Pie)     4.6  \n",
       "1                        48.0            13  Android v9.0 (Pie)     4.6  \n",
       "2                        48.0            13  Android v9.0 (Pie)     4.6  \n",
       "3                        48.0            13  Android v9.0 (Pie)     4.5  \n",
       "4                        12.0            13  Android v9.0 (Pie)     4.5  "
      ]
     },
     "execution_count": 3,
     "metadata": {},
     "output_type": "execute_result"
    }
   ],
   "source": [
    "smartphones.head()"
   ]
  },
  {
   "cell_type": "code",
   "execution_count": 4,
   "metadata": {},
   "outputs": [
    {
     "name": "stdout",
     "output_type": "stream",
     "text": [
      "<class 'pandas.core.frame.DataFrame'>\n",
      "RangeIndex: 273 entries, 0 to 272\n",
      "Data columns (total 14 columns):\n",
      "Model                         273 non-null object\n",
      "Brand                         273 non-null object\n",
      "Price                         273 non-null object\n",
      "RAM                           273 non-null int64\n",
      "ROM                           273 non-null int64\n",
      "Battery Capacity              273 non-null int64\n",
      "Screen Size(Inch)             273 non-null float64\n",
      "SIM Type                      273 non-null object\n",
      "System On Chip                273 non-null object\n",
      "Number Of Rear Cameras        273 non-null int64\n",
      "Rear Camera(In Mega Pixel)    273 non-null float64\n",
      "Front Camera                  273 non-null int64\n",
      "Operating System              273 non-null object\n",
      "Rating                        269 non-null float64\n",
      "dtypes: float64(3), int64(5), object(6)\n",
      "memory usage: 29.9+ KB\n"
     ]
    }
   ],
   "source": [
    "smartphones.info()"
   ]
  },
  {
   "cell_type": "code",
   "execution_count": 5,
   "metadata": {},
   "outputs": [
    {
     "data": {
      "text/html": [
       "<div>\n",
       "<style scoped>\n",
       "    .dataframe tbody tr th:only-of-type {\n",
       "        vertical-align: middle;\n",
       "    }\n",
       "\n",
       "    .dataframe tbody tr th {\n",
       "        vertical-align: top;\n",
       "    }\n",
       "\n",
       "    .dataframe thead th {\n",
       "        text-align: right;\n",
       "    }\n",
       "</style>\n",
       "<table border=\"1\" class=\"dataframe\">\n",
       "  <thead>\n",
       "    <tr style=\"text-align: right;\">\n",
       "      <th></th>\n",
       "      <th>Brand</th>\n",
       "      <th>Smartphones Released</th>\n",
       "    </tr>\n",
       "  </thead>\n",
       "  <tbody>\n",
       "    <tr>\n",
       "      <th>0</th>\n",
       "      <td>Apple</td>\n",
       "      <td>9</td>\n",
       "    </tr>\n",
       "    <tr>\n",
       "      <th>1</th>\n",
       "      <td>Asus</td>\n",
       "      <td>10</td>\n",
       "    </tr>\n",
       "    <tr>\n",
       "      <th>2</th>\n",
       "      <td>Blackberry</td>\n",
       "      <td>3</td>\n",
       "    </tr>\n",
       "    <tr>\n",
       "      <th>3</th>\n",
       "      <td>Coolpad</td>\n",
       "      <td>4</td>\n",
       "    </tr>\n",
       "    <tr>\n",
       "      <th>4</th>\n",
       "      <td>Google</td>\n",
       "      <td>6</td>\n",
       "    </tr>\n",
       "  </tbody>\n",
       "</table>\n",
       "</div>"
      ],
      "text/plain": [
       "        Brand  Smartphones Released\n",
       "0       Apple                     9\n",
       "1        Asus                    10\n",
       "2  Blackberry                     3\n",
       "3     Coolpad                     4\n",
       "4      Google                     6"
      ]
     },
     "execution_count": 5,
     "metadata": {},
     "output_type": "execute_result"
    }
   ],
   "source": [
    "#Group the smartphones based on the brand \n",
    "brands_group = smartphones.groupby('Brand')\n",
    "\n",
    "#Find the count of mobiles released by each brand\n",
    "brands_group = brands_group.size().reset_index('Brand')\n",
    "brands_group.columns = ['Brand','Smartphones Released']\n",
    "brands_group.head()"
   ]
  },
  {
   "cell_type": "code",
   "execution_count": 6,
   "metadata": {},
   "outputs": [
    {
     "data": {
      "text/plain": [
       "<matplotlib.axes._subplots.AxesSubplot at 0xc483f98>"
      ]
     },
     "execution_count": 6,
     "metadata": {},
     "output_type": "execute_result"
    },
    {
     "data": {
      "image/png": "[encoded data removed]",
      "text/plain": [
       "<Figure size 1440x360 with 1 Axes>"
      ]
     },
     "metadata": {
      "needs_background": "light"
     },
     "output_type": "display_data"
    }
   ],
   "source": [
    "#Which Brand has released the most number of smartphones\n",
    "brands_group.plot.bar(y = 'Smartphones Released',x = 'Brand',figsize = (20,5))"
   ]
  },
  {
   "cell_type": "code",
   "execution_count": 7,
   "metadata": {},
   "outputs": [
    {
     "data": {
      "text/plain": [
       "Model                          object\n",
       "Brand                          object\n",
       "Price                          object\n",
       "RAM                             int64\n",
       "ROM                             int64\n",
       "Battery Capacity                int64\n",
       "Screen Size(Inch)             float64\n",
       "SIM Type                       object\n",
       "System On Chip                 object\n",
       "Number Of Rear Cameras          int64\n",
       "Rear Camera(In Mega Pixel)    float64\n",
       "Front Camera                    int64\n",
       "Operating System               object\n",
       "Rating                        float64\n",
       "dtype: object"
      ]
     },
     "execution_count": 7,
     "metadata": {},
     "output_type": "execute_result"
    }
   ],
   "source": [
    "#Find the data type of each attribute\n",
    "smartphones.dtypes"
   ]
  },
  {
   "cell_type": "code",
   "execution_count": 8,
   "metadata": {},
   "outputs": [
    {
     "data": {
      "text/plain": [
       "Model                          object\n",
       "Brand                          object\n",
       "Price                           int64\n",
       "RAM                             int64\n",
       "ROM                             int64\n",
       "Battery Capacity                int64\n",
       "Screen Size(Inch)             float64\n",
       "SIM Type                       object\n",
       "System On Chip                 object\n",
       "Number Of Rear Cameras          int64\n",
       "Rear Camera(In Mega Pixel)    float64\n",
       "Front Camera                    int64\n",
       "Operating System               object\n",
       "Rating                        float64\n",
       "dtype: object"
      ]
     },
     "execution_count": 8,
     "metadata": {},
     "output_type": "execute_result"
    }
   ],
   "source": [
    "#Price is of Object datatype. Convert it to integer\n",
    "smartphones['Price'] = smartphones.Price.str.replace(',','').astype(long)\n",
    "smartphones.dtypes"
   ]
  },
  {
   "cell_type": "code",
   "execution_count": 9,
   "metadata": {},
   "outputs": [
    {
     "name": "stdout",
     "output_type": "stream",
     "text": [
      "Max Price: \n",
      "\n",
      "             Model  Brand   Price\n",
      "174  iPhone XS Max  Apple  134000\n",
      "175      iPhone XS  Apple  134000\n",
      "\n",
      "\n",
      "Min Price: \n",
      "\n",
      "        Model     Brand  Price\n",
      "238  Spark Go  Micromax   3499\n"
     ]
    }
   ],
   "source": [
    "#Find the max price and minimum price of the smartphones\n",
    "print('Max Price: \\n')\n",
    "print(smartphones[['Model','Brand','Price']][smartphones.Price == smartphones.Price.max()])\n",
    "print('\\n')\n",
    "print('Min Price: \\n')\n",
    "print(smartphones[['Model','Brand','Price']][smartphones.Price == smartphones.Price.min()])"
   ]
  },
  {
   "cell_type": "code",
   "execution_count": 10,
   "metadata": {},
   "outputs": [
    {
     "data": {
      "text/html": [
       "<div>\n",
       "<style scoped>\n",
       "    .dataframe tbody tr th:only-of-type {\n",
       "        vertical-align: middle;\n",
       "    }\n",
       "\n",
       "    .dataframe tbody tr th {\n",
       "        vertical-align: top;\n",
       "    }\n",
       "\n",
       "    .dataframe thead th {\n",
       "        text-align: right;\n",
       "    }\n",
       "</style>\n",
       "<table border=\"1\" class=\"dataframe\">\n",
       "  <thead>\n",
       "    <tr style=\"text-align: right;\">\n",
       "      <th></th>\n",
       "      <th>Model</th>\n",
       "      <th>Brand</th>\n",
       "      <th>Price</th>\n",
       "      <th>RAM</th>\n",
       "      <th>ROM</th>\n",
       "      <th>Battery Capacity</th>\n",
       "      <th>Screen Size(Inch)</th>\n",
       "      <th>SIM Type</th>\n",
       "      <th>System On Chip</th>\n",
       "      <th>Number Of Rear Cameras</th>\n",
       "      <th>Rear Camera(In Mega Pixel)</th>\n",
       "      <th>Front Camera</th>\n",
       "      <th>Operating System</th>\n",
       "      <th>Rating</th>\n",
       "    </tr>\n",
       "  </thead>\n",
       "  <tbody>\n",
       "    <tr>\n",
       "      <th>0</th>\n",
       "      <td>Redmi Note 7 Pro</td>\n",
       "      <td>Xiaomi</td>\n",
       "      <td>13999</td>\n",
       "      <td>4</td>\n",
       "      <td>64</td>\n",
       "      <td>4000</td>\n",
       "      <td>6.3</td>\n",
       "      <td>Dual Sim</td>\n",
       "      <td>Snapdragon 675</td>\n",
       "      <td>2</td>\n",
       "      <td>48.0</td>\n",
       "      <td>13</td>\n",
       "      <td>Android v9.0 (Pie)</td>\n",
       "      <td>4.6</td>\n",
       "    </tr>\n",
       "    <tr>\n",
       "      <th>1</th>\n",
       "      <td>Redmi Note 7 Pro</td>\n",
       "      <td>Xiaomi</td>\n",
       "      <td>16999</td>\n",
       "      <td>6</td>\n",
       "      <td>128</td>\n",
       "      <td>4000</td>\n",
       "      <td>6.3</td>\n",
       "      <td>Dual Sim</td>\n",
       "      <td>Snapdragon 675</td>\n",
       "      <td>2</td>\n",
       "      <td>48.0</td>\n",
       "      <td>13</td>\n",
       "      <td>Android v9.0 (Pie)</td>\n",
       "      <td>4.6</td>\n",
       "    </tr>\n",
       "    <tr>\n",
       "      <th>2</th>\n",
       "      <td>Redmi Note 7S</td>\n",
       "      <td>Xiaomi</td>\n",
       "      <td>10999</td>\n",
       "      <td>3</td>\n",
       "      <td>32</td>\n",
       "      <td>4000</td>\n",
       "      <td>6.3</td>\n",
       "      <td>Dual Sim</td>\n",
       "      <td>Snapdragon 660</td>\n",
       "      <td>2</td>\n",
       "      <td>48.0</td>\n",
       "      <td>13</td>\n",
       "      <td>Android v9.0 (Pie)</td>\n",
       "      <td>4.6</td>\n",
       "    </tr>\n",
       "    <tr>\n",
       "      <th>3</th>\n",
       "      <td>Redmi Note 7S</td>\n",
       "      <td>Xiaomi</td>\n",
       "      <td>12999</td>\n",
       "      <td>4</td>\n",
       "      <td>64</td>\n",
       "      <td>4000</td>\n",
       "      <td>6.3</td>\n",
       "      <td>Dual Sim</td>\n",
       "      <td>Snapdragon 660</td>\n",
       "      <td>2</td>\n",
       "      <td>48.0</td>\n",
       "      <td>13</td>\n",
       "      <td>Android v9.0 (Pie)</td>\n",
       "      <td>4.5</td>\n",
       "    </tr>\n",
       "    <tr>\n",
       "      <th>4</th>\n",
       "      <td>Redmi Note 7</td>\n",
       "      <td>Xiaomi</td>\n",
       "      <td>9999</td>\n",
       "      <td>3</td>\n",
       "      <td>32</td>\n",
       "      <td>4000</td>\n",
       "      <td>6.3</td>\n",
       "      <td>Dual Sim</td>\n",
       "      <td>Snapdragon 660</td>\n",
       "      <td>2</td>\n",
       "      <td>12.0</td>\n",
       "      <td>13</td>\n",
       "      <td>Android v9.0 (Pie)</td>\n",
       "      <td>4.5</td>\n",
       "    </tr>\n",
       "  </tbody>\n",
       "</table>\n",
       "</div>"
      ],
      "text/plain": [
       "              Model   Brand  Price  RAM  ROM  Battery Capacity  \\\n",
       "0  Redmi Note 7 Pro  Xiaomi  13999    4   64              4000   \n",
       "1  Redmi Note 7 Pro  Xiaomi  16999    6  128              4000   \n",
       "2     Redmi Note 7S  Xiaomi  10999    3   32              4000   \n",
       "3     Redmi Note 7S  Xiaomi  12999    4   64              4000   \n",
       "4      Redmi Note 7  Xiaomi   9999    3   32              4000   \n",
       "\n",
       "   Screen Size(Inch)  SIM Type  System On Chip  Number Of Rear Cameras  \\\n",
       "0                6.3  Dual Sim  Snapdragon 675                       2   \n",
       "1                6.3  Dual Sim  Snapdragon 675                       2   \n",
       "2                6.3  Dual Sim  Snapdragon 660                       2   \n",
       "3                6.3  Dual Sim  Snapdragon 660                       2   \n",
       "4                6.3  Dual Sim  Snapdragon 660                       2   \n",
       "\n",
       "   Rear Camera(In Mega Pixel)  Front Camera    Operating System  Rating  \n",
       "0                        48.0            13  Android v9.0 (Pie)     4.6  \n",
       "1                        48.0            13  Android v9.0 (Pie)     4.6  \n",
       "2                        48.0            13  Android v9.0 (Pie)     4.6  \n",
       "3                        48.0            13  Android v9.0 (Pie)     4.5  \n",
       "4                        12.0            13  Android v9.0 (Pie)     4.5  "
      ]
     },
     "execution_count": 10,
     "metadata": {},
     "output_type": "execute_result"
    }
   ],
   "source": [
    "smartphones.head()"
   ]
  },
  {
   "cell_type": "code",
   "execution_count": 11,
   "metadata": {},
   "outputs": [
    {
     "data": {
      "text/html": [
       "<div>\n",
       "<style scoped>\n",
       "    .dataframe tbody tr th:only-of-type {\n",
       "        vertical-align: middle;\n",
       "    }\n",
       "\n",
       "    .dataframe tbody tr th {\n",
       "        vertical-align: top;\n",
       "    }\n",
       "\n",
       "    .dataframe thead th {\n",
       "        text-align: right;\n",
       "    }\n",
       "</style>\n",
       "<table border=\"1\" class=\"dataframe\">\n",
       "  <thead>\n",
       "    <tr style=\"text-align: right;\">\n",
       "      <th></th>\n",
       "      <th>Model</th>\n",
       "      <th>Brand</th>\n",
       "      <th>Price</th>\n",
       "      <th>RAM</th>\n",
       "      <th>ROM</th>\n",
       "      <th>Battery Capacity</th>\n",
       "      <th>Screen Size(Inch)</th>\n",
       "      <th>SIM Type</th>\n",
       "      <th>System On Chip</th>\n",
       "      <th>Number Of Rear Cameras</th>\n",
       "      <th>Rear Camera(In Mega Pixel)</th>\n",
       "      <th>Front Camera</th>\n",
       "      <th>Operating System</th>\n",
       "      <th>Rating</th>\n",
       "    </tr>\n",
       "  </thead>\n",
       "  <tbody>\n",
       "    <tr>\n",
       "      <th>14</th>\n",
       "      <td>Black Shark 2</td>\n",
       "      <td>Xiaomi</td>\n",
       "      <td>49999</td>\n",
       "      <td>12</td>\n",
       "      <td>256</td>\n",
       "      <td>4000</td>\n",
       "      <td>6.39</td>\n",
       "      <td>Dual Sim</td>\n",
       "      <td>Snapdragon 855</td>\n",
       "      <td>2</td>\n",
       "      <td>48.0</td>\n",
       "      <td>20</td>\n",
       "      <td>Android v9.0 (Pie)</td>\n",
       "      <td>NaN</td>\n",
       "    </tr>\n",
       "    <tr>\n",
       "      <th>38</th>\n",
       "      <td>Galaxy S10 Plus</td>\n",
       "      <td>Samsung</td>\n",
       "      <td>117900</td>\n",
       "      <td>12</td>\n",
       "      <td>1024</td>\n",
       "      <td>4100</td>\n",
       "      <td>6.40</td>\n",
       "      <td>Dual Sim</td>\n",
       "      <td>Exynos 9820</td>\n",
       "      <td>2</td>\n",
       "      <td>16.0</td>\n",
       "      <td>10</td>\n",
       "      <td>Android v9.0 (Pie)</td>\n",
       "      <td>4.0</td>\n",
       "    </tr>\n",
       "    <tr>\n",
       "      <th>59</th>\n",
       "      <td>Realme 3 Pro</td>\n",
       "      <td>Realme</td>\n",
       "      <td>16999</td>\n",
       "      <td>6</td>\n",
       "      <td>128</td>\n",
       "      <td>4045</td>\n",
       "      <td>6.30</td>\n",
       "      <td>Dual Sim</td>\n",
       "      <td>Snapdragon 710</td>\n",
       "      <td>2</td>\n",
       "      <td>16.0</td>\n",
       "      <td>25</td>\n",
       "      <td>Android v9.0 (Pie)</td>\n",
       "      <td>4.5</td>\n",
       "    </tr>\n",
       "    <tr>\n",
       "      <th>93</th>\n",
       "      <td>NEX</td>\n",
       "      <td>Vivo</td>\n",
       "      <td>39990</td>\n",
       "      <td>8</td>\n",
       "      <td>128</td>\n",
       "      <td>4000</td>\n",
       "      <td>6.59</td>\n",
       "      <td>Dual Sim</td>\n",
       "      <td>Snapdragon 845</td>\n",
       "      <td>2</td>\n",
       "      <td>12.0</td>\n",
       "      <td>8</td>\n",
       "      <td>Android v8.1 (Oreo)</td>\n",
       "      <td>4.2</td>\n",
       "    </tr>\n",
       "    <tr>\n",
       "      <th>114</th>\n",
       "      <td>Find X</td>\n",
       "      <td>Oppo</td>\n",
       "      <td>58990</td>\n",
       "      <td>8</td>\n",
       "      <td>256</td>\n",
       "      <td>3730</td>\n",
       "      <td>6.40</td>\n",
       "      <td>Dual Sim</td>\n",
       "      <td>Snapdragon 845</td>\n",
       "      <td>2</td>\n",
       "      <td>20.0</td>\n",
       "      <td>25</td>\n",
       "      <td>Android v8.1 (Oreo)</td>\n",
       "      <td>4.6</td>\n",
       "    </tr>\n",
       "  </tbody>\n",
       "</table>\n",
       "</div>"
      ],
      "text/plain": [
       "               Model    Brand   Price  RAM   ROM  Battery Capacity  \\\n",
       "14     Black Shark 2   Xiaomi   49999   12   256              4000   \n",
       "38   Galaxy S10 Plus  Samsung  117900   12  1024              4100   \n",
       "59     Realme 3 Pro    Realme   16999    6   128              4045   \n",
       "93               NEX     Vivo   39990    8   128              4000   \n",
       "114           Find X     Oppo   58990    8   256              3730   \n",
       "\n",
       "     Screen Size(Inch)  SIM Type  System On Chip  Number Of Rear Cameras  \\\n",
       "14                6.39  Dual Sim  Snapdragon 855                       2   \n",
       "38                6.40  Dual Sim     Exynos 9820                       2   \n",
       "59                6.30  Dual Sim  Snapdragon 710                       2   \n",
       "93                6.59  Dual Sim  Snapdragon 845                       2   \n",
       "114               6.40  Dual Sim  Snapdragon 845                       2   \n",
       "\n",
       "     Rear Camera(In Mega Pixel)  Front Camera     Operating System  Rating  \n",
       "14                         48.0            20   Android v9.0 (Pie)     NaN  \n",
       "38                         16.0            10   Android v9.0 (Pie)     4.0  \n",
       "59                         16.0            25   Android v9.0 (Pie)     4.5  \n",
       "93                         12.0             8  Android v8.1 (Oreo)     4.2  \n",
       "114                        20.0            25  Android v8.1 (Oreo)     4.6  "
      ]
     },
     "execution_count": 11,
     "metadata": {},
     "output_type": "execute_result"
    }
   ],
   "source": [
    "#Find the Highest Priced Smartphone in Each Brand\n",
    "max_price = smartphones.groupby(['Brand'])['Price'].transform(max) == smartphones['Price']\n",
    "max_price = smartphones[max_price]\n",
    "max_price.head()"
   ]
  },
  {
   "cell_type": "code",
   "execution_count": 12,
   "metadata": {},
   "outputs": [
    {
     "data": {
      "text/plain": [
       "<matplotlib.axes._subplots.AxesSubplot at 0xc7152e8>"
      ]
     },
     "execution_count": 12,
     "metadata": {},
     "output_type": "execute_result"
    },
    {
     "data": {
      "image/png": "[encoded data removed]",
      "text/plain": [
       "<Figure size 1440x360 with 1 Axes>"
      ]
     },
     "metadata": {
      "needs_background": "light"
     },
     "output_type": "display_data"
    }
   ],
   "source": [
    "#Max Price of Each Brands\n",
    "\n",
    "max_price.plot.bar(y = 'Price',x = 'Brand',figsize = (20,5))"
   ]
  },
  {
   "cell_type": "code",
   "execution_count": 34,
   "metadata": {},
   "outputs": [
    {
     "data": {
      "text/plain": [
       "<matplotlib.axes._subplots.AxesSubplot at 0xe8b5dd8>"
      ]
     },
     "execution_count": 34,
     "metadata": {},
     "output_type": "execute_result"
    },
    {
     "data": {
      "image/png": "[encoded data removed]",
      "text/plain": [
       "<Figure size 1440x360 with 1 Axes>"
      ]
     },
     "metadata": {
      "needs_background": "light"
     },
     "output_type": "display_data"
    }
   ],
   "source": [
    "#Find the average price of each brands\n",
    "\n",
    "averagePrice = pd.Series(smartphones.groupby('Brand')['Price'].mean())\n",
    "\n",
    "average_price = averagePrice.to_frame()\n",
    "\n",
    "average_price.plot.bar(y = 'Price',figsize = (20,5))"
   ]
  }
 ],
 "metadata": {
  "kernelspec": {
   "display_name": "Python 2",
   "language": "python",
   "name": "python2"
  },
  "language_info": {
   "codemirror_mode": {
    "name": "ipython",
    "version": 2
   },
   "file_extension": ".py",
   "mimetype": "text/x-python",
   "name": "python",
   "nbconvert_exporter": "python",
   "pygments_lexer": "ipython2",
   "version": "2.7.15"
  }
 },
 "nbformat": 4,
 "nbformat_minor": 2
}
